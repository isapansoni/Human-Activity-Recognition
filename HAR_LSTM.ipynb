{
 "cells": [
  {
   "cell_type": "code",
   "execution_count": 1,
   "metadata": {
    "collapsed": true
   },
   "outputs": [],
   "source": [
    "# Importing Libraries"
   ]
  },
  {
   "cell_type": "code",
   "execution_count": 2,
   "metadata": {
    "collapsed": true
   },
   "outputs": [],
   "source": [
    "import pandas as pd\n",
    "import numpy as np\n"
   ]
  },
  {
   "cell_type": "code",
   "execution_count": 3,
   "metadata": {
    "collapsed": true
   },
   "outputs": [],
   "source": [
    "# Activities are the class labels\n",
    "# It is a 6 class classification\n",
    "ACTIVITIES = {\n",
    "    0: 'WALKING',\n",
    "    1: 'WALKING_UPSTAIRS',\n",
    "    2: 'WALKING_DOWNSTAIRS',\n",
    "    3: 'SITTING',\n",
    "    4: 'STANDING',\n",
    "    5: 'LAYING',\n",
    "}\n",
    "\n",
    "# Utility function to print the confusion matrix\n",
    "def confusion_matrix(Y_true, Y_pred):\n",
    "    Y_true = pd.Series([ACTIVITIES[y] for y in np.argmax(Y_true, axis=1)])\n",
    "    Y_pred = pd.Series([ACTIVITIES[y] for y in np.argmax(Y_pred, axis=1)])\n",
    "\n",
    "    return pd.crosstab(Y_true, Y_pred, rownames=['True'], colnames=['Pred'])"
   ]
  },
  {
   "cell_type": "markdown",
   "metadata": {},
   "source": [
    "### Data"
   ]
  },
  {
   "cell_type": "code",
   "execution_count": 4,
   "metadata": {
    "collapsed": true
   },
   "outputs": [],
   "source": [
    "# Data directory\n",
    "DATADIR = 'UCI_HAR_Dataset'"
   ]
  },
  {
   "cell_type": "code",
   "execution_count": 5,
   "metadata": {
    "collapsed": true
   },
   "outputs": [],
   "source": [
    "# Raw data signals\n",
    "# Signals are from Accelerometer and Gyroscope\n",
    "# The signals are in x,y,z directions\n",
    "# Sensor signals are filtered to have only body acceleration\n",
    "# excluding the acceleration due to gravity\n",
    "# Triaxial acceleration from the accelerometer is total acceleration\n",
    "SIGNALS = [\n",
    "    \"body_acc_x\",\n",
    "    \"body_acc_y\",\n",
    "    \"body_acc_z\",\n",
    "    \"body_gyro_x\",\n",
    "    \"body_gyro_y\",\n",
    "    \"body_gyro_z\",\n",
    "    \"total_acc_x\",\n",
    "    \"total_acc_y\",\n",
    "    \"total_acc_z\"\n",
    "]"
   ]
  },
  {
   "cell_type": "code",
   "execution_count": 6,
   "metadata": {
    "collapsed": true
   },
   "outputs": [],
   "source": [
    "# Utility function to read the data from csv file\n",
    "def _read_csv(filename):\n",
    "    return pd.read_csv(filename, delim_whitespace=True, header=None)\n",
    "\n",
    "# Utility function to load the load\n",
    "def load_signals(subset):\n",
    "    signals_data = []\n",
    "\n",
    "    for signal in SIGNALS:\n",
    "        filename = f'UCI_HAR_Dataset/{subset}/Inertial Signals/{signal}_{subset}.txt'\n",
    "        signals_data.append(\n",
    "            _read_csv(filename).as_matrix()\n",
    "        ) \n",
    "\n",
    "    # Transpose is used to change the dimensionality of the output,\n",
    "    # aggregating the signals by combination of sample/timestep.\n",
    "    # Resultant shape is (7352 train/2947 test samples, 128 timesteps, 9 signals)\n",
    "    return np.transpose(signals_data, (1, 2, 0))"
   ]
  },
  {
   "cell_type": "code",
   "execution_count": 7,
   "metadata": {
    "collapsed": true
   },
   "outputs": [],
   "source": [
    "\n",
    "def load_y(subset):\n",
    "    \"\"\"\n",
    "    The objective that we are trying to predict is a integer, from 1 to 6,\n",
    "    that represents a human activity. We return a binary representation of \n",
    "    every sample objective as a 6 bits vector using One Hot Encoding\n",
    "    (https://pandas.pydata.org/pandas-docs/stable/generated/pandas.get_dummies.html)\n",
    "    \"\"\"\n",
    "    filename = f'UCI_HAR_Dataset/{subset}/y_{subset}.txt'\n",
    "    y = _read_csv(filename)[0]\n",
    "\n",
    "    return pd.get_dummies(y).as_matrix()"
   ]
  },
  {
   "cell_type": "code",
   "execution_count": 8,
   "metadata": {
    "collapsed": true
   },
   "outputs": [],
   "source": [
    "def load_data():\n",
    "    \"\"\"\n",
    "    Obtain the dataset from multiple files.\n",
    "    Returns: X_train, X_test, y_train, y_test\n",
    "    \"\"\"\n",
    "    X_train, X_test = load_signals('train'), load_signals('test')\n",
    "    y_train, y_test = load_y('train'), load_y('test')\n",
    "\n",
    "    return X_train, X_test, y_train, y_test"
   ]
  },
  {
   "cell_type": "code",
   "execution_count": 9,
   "metadata": {},
   "outputs": [
    {
     "name": "stderr",
     "output_type": "stream",
     "text": [
      "/Users/sapansoni/anaconda3/lib/python3.6/site-packages/h5py/__init__.py:34: FutureWarning: Conversion of the second argument of issubdtype from `float` to `np.floating` is deprecated. In future, it will be treated as `np.float64 == np.dtype(float).type`.\n",
      "  from ._conv import register_converters as _register_converters\n"
     ]
    }
   ],
   "source": [
    "# Importing tensorflow\n",
    "np.random.seed(42)\n",
    "import tensorflow as tf\n",
    "tf.set_random_seed(42)"
   ]
  },
  {
   "cell_type": "code",
   "execution_count": 10,
   "metadata": {
    "collapsed": true
   },
   "outputs": [],
   "source": [
    "# Configuring a session\n",
    "session_conf = tf.ConfigProto(\n",
    "    intra_op_parallelism_threads=1,\n",
    "    inter_op_parallelism_threads=1\n",
    ")"
   ]
  },
  {
   "cell_type": "code",
   "execution_count": 11,
   "metadata": {},
   "outputs": [
    {
     "name": "stderr",
     "output_type": "stream",
     "text": [
      "Using TensorFlow backend.\n"
     ]
    }
   ],
   "source": [
    "# Import Keras\n",
    "from keras import backend as K\n",
    "sess = tf.Session(graph=tf.get_default_graph(), config=session_conf)\n",
    "K.set_session(sess)"
   ]
  },
  {
   "cell_type": "code",
   "execution_count": 12,
   "metadata": {
    "collapsed": true
   },
   "outputs": [],
   "source": [
    "# Importing libraries\n",
    "from keras.models import Sequential\n",
    "from keras.layers import LSTM\n",
    "from keras.layers.core import Dense, Dropout"
   ]
  },
  {
   "cell_type": "markdown",
   "metadata": {},
   "source": [
    "### Model using 16 hidden units and moderate dropout rate"
   ]
  },
  {
   "cell_type": "code",
   "execution_count": 13,
   "metadata": {
    "collapsed": true
   },
   "outputs": [],
   "source": [
    "# Initializing parameters\n",
    "epochs = 20\n",
    "batch_size = 64\n",
    "n_hidden = 16"
   ]
  },
  {
   "cell_type": "code",
   "execution_count": 14,
   "metadata": {
    "collapsed": true
   },
   "outputs": [],
   "source": [
    "# Utility function to count the number of classes\n",
    "def _count_classes(y):\n",
    "    return len(set([tuple(category) for category in y]))"
   ]
  },
  {
   "cell_type": "code",
   "execution_count": 15,
   "metadata": {
    "collapsed": true
   },
   "outputs": [],
   "source": [
    "# Loading the train and test data\n",
    "X_train, X_test, Y_train, Y_test = load_data()"
   ]
  },
  {
   "cell_type": "code",
   "execution_count": 16,
   "metadata": {},
   "outputs": [
    {
     "name": "stdout",
     "output_type": "stream",
     "text": [
      "128\n",
      "9\n",
      "7352\n"
     ]
    }
   ],
   "source": [
    "timesteps = len(X_train[0])\n",
    "input_dim = len(X_train[0][0])\n",
    "n_classes = _count_classes(Y_train)\n",
    "\n",
    "print(timesteps)\n",
    "print(input_dim)\n",
    "print(len(X_train))"
   ]
  },
  {
   "cell_type": "markdown",
   "metadata": {},
   "source": [
    "- Defining the Architecture of LSTM"
   ]
  },
  {
   "cell_type": "code",
   "execution_count": 17,
   "metadata": {},
   "outputs": [
    {
     "name": "stdout",
     "output_type": "stream",
     "text": [
      "WARNING:tensorflow:From /Users/sapansoni/anaconda3/lib/python3.6/site-packages/keras/backend/tensorflow_backend.py:1247: calling reduce_sum (from tensorflow.python.ops.math_ops) with keep_dims is deprecated and will be removed in a future version.\n",
      "Instructions for updating:\n",
      "keep_dims is deprecated, use keepdims instead\n",
      "_________________________________________________________________\n",
      "Layer (type)                 Output Shape              Param #   \n",
      "=================================================================\n",
      "lstm_1 (LSTM)                (None, 128, 16)           1664      \n",
      "_________________________________________________________________\n",
      "dropout_1 (Dropout)          (None, 128, 16)           0         \n",
      "_________________________________________________________________\n",
      "lstm_2 (LSTM)                (None, 16)                2112      \n",
      "_________________________________________________________________\n",
      "dropout_2 (Dropout)          (None, 16)                0         \n",
      "_________________________________________________________________\n",
      "dense_1 (Dense)              (None, 6)                 102       \n",
      "=================================================================\n",
      "Total params: 3,878\n",
      "Trainable params: 3,878\n",
      "Non-trainable params: 0\n",
      "_________________________________________________________________\n"
     ]
    }
   ],
   "source": [
    "# Initiliazing the sequential model\n",
    "model = Sequential()\n",
    "# Configuring the parameters\n",
    "model.add(LSTM(n_hidden,return_sequences=True, input_shape=(timesteps, input_dim)))\n",
    "# Adding a dropout layer\n",
    "model.add(Dropout(0.5))\n",
    "model.add(LSTM(n_hidden, input_shape=(timesteps, input_dim)))\n",
    "model.add(Dropout(0.5))\n",
    "# Adding a dense output layer with sigmoid activation\n",
    "model.add(Dense(n_classes, activation='sigmoid'))\n",
    "model.summary()"
   ]
  },
  {
   "cell_type": "code",
   "execution_count": 18,
   "metadata": {},
   "outputs": [
    {
     "name": "stdout",
     "output_type": "stream",
     "text": [
      "WARNING:tensorflow:From /Users/sapansoni/anaconda3/lib/python3.6/site-packages/keras/backend/tensorflow_backend.py:1349: calling reduce_mean (from tensorflow.python.ops.math_ops) with keep_dims is deprecated and will be removed in a future version.\n",
      "Instructions for updating:\n",
      "keep_dims is deprecated, use keepdims instead\n"
     ]
    }
   ],
   "source": [
    "# Compiling the model\n",
    "model.compile(loss='categorical_crossentropy',\n",
    "              optimizer='rmsprop',\n",
    "              metrics=['accuracy'])"
   ]
  },
  {
   "cell_type": "code",
   "execution_count": 19,
   "metadata": {},
   "outputs": [
    {
     "name": "stdout",
     "output_type": "stream",
     "text": [
      "Train on 7352 samples, validate on 2947 samples\n",
      "Epoch 1/20\n",
      "7352/7352 [==============================] - 23s 3ms/step - loss: 1.5757 - acc: 0.3595 - val_loss: 1.3929 - val_acc: 0.4143\n",
      "Epoch 2/20\n",
      "7352/7352 [==============================] - 21s 3ms/step - loss: 1.2752 - acc: 0.5086 - val_loss: 1.1857 - val_acc: 0.5612\n",
      "Epoch 3/20\n",
      "7352/7352 [==============================] - 21s 3ms/step - loss: 1.0965 - acc: 0.5853 - val_loss: 1.0097 - val_acc: 0.6081\n",
      "Epoch 4/20\n",
      "7352/7352 [==============================] - 24s 3ms/step - loss: 0.9847 - acc: 0.6179 - val_loss: 0.9297 - val_acc: 0.6396\n",
      "Epoch 5/20\n",
      "7352/7352 [==============================] - 24s 3ms/step - loss: 0.9133 - acc: 0.6261 - val_loss: 0.8403 - val_acc: 0.6366\n",
      "Epoch 6/20\n",
      "7352/7352 [==============================] - 21s 3ms/step - loss: 0.8503 - acc: 0.6389 - val_loss: 0.7966 - val_acc: 0.6271\n",
      "Epoch 7/20\n",
      "7352/7352 [==============================] - 26s 4ms/step - loss: 0.8203 - acc: 0.6495 - val_loss: 0.7650 - val_acc: 0.6281\n",
      "Epoch 8/20\n",
      "7352/7352 [==============================] - 22s 3ms/step - loss: 0.7948 - acc: 0.6566 - val_loss: 0.7340 - val_acc: 0.6559\n",
      "Epoch 9/20\n",
      "7352/7352 [==============================] - 22s 3ms/step - loss: 0.7699 - acc: 0.6715 - val_loss: 0.7576 - val_acc: 0.6060\n",
      "Epoch 10/20\n",
      "7352/7352 [==============================] - 22s 3ms/step - loss: 0.7359 - acc: 0.6766 - val_loss: 0.8146 - val_acc: 0.5986\n",
      "Epoch 11/20\n",
      "7352/7352 [==============================] - 22s 3ms/step - loss: 0.7130 - acc: 0.6795 - val_loss: 0.7160 - val_acc: 0.6746\n",
      "Epoch 12/20\n",
      "7352/7352 [==============================] - 22s 3ms/step - loss: 0.6895 - acc: 0.6976 - val_loss: 0.6904 - val_acc: 0.7197\n",
      "Epoch 13/20\n",
      "7352/7352 [==============================] - 22s 3ms/step - loss: 0.6793 - acc: 0.7096 - val_loss: 0.7074 - val_acc: 0.7323\n",
      "Epoch 14/20\n",
      "7352/7352 [==============================] - 22s 3ms/step - loss: 0.6599 - acc: 0.7203 - val_loss: 0.6635 - val_acc: 0.7374\n",
      "Epoch 15/20\n",
      "7352/7352 [==============================] - 22s 3ms/step - loss: 0.6352 - acc: 0.7350 - val_loss: 0.7112 - val_acc: 0.7401\n",
      "Epoch 16/20\n",
      "7352/7352 [==============================] - 22s 3ms/step - loss: 0.6233 - acc: 0.7452 - val_loss: 0.7312 - val_acc: 0.7350\n",
      "Epoch 17/20\n",
      "7352/7352 [==============================] - 22s 3ms/step - loss: 0.5978 - acc: 0.7603 - val_loss: 0.6477 - val_acc: 0.7506\n",
      "Epoch 18/20\n",
      "7352/7352 [==============================] - 24s 3ms/step - loss: 0.5854 - acc: 0.7621 - val_loss: 0.6322 - val_acc: 0.7404\n",
      "Epoch 19/20\n",
      "7352/7352 [==============================] - 22s 3ms/step - loss: 0.5606 - acc: 0.7697 - val_loss: 0.6476 - val_acc: 0.7360\n",
      "Epoch 20/20\n",
      "7352/7352 [==============================] - 22s 3ms/step - loss: 0.5493 - acc: 0.7711 - val_loss: 0.6035 - val_acc: 0.7564\n"
     ]
    },
    {
     "data": {
      "text/plain": [
       "<keras.callbacks.History at 0x123203320>"
      ]
     },
     "execution_count": 19,
     "metadata": {},
     "output_type": "execute_result"
    }
   ],
   "source": [
    "# Training the model\n",
    "model.fit(X_train,\n",
    "          Y_train,\n",
    "          batch_size=batch_size,\n",
    "          validation_data=(X_test, Y_test),\n",
    "          epochs=epochs)"
   ]
  },
  {
   "cell_type": "code",
   "execution_count": 20,
   "metadata": {},
   "outputs": [
    {
     "name": "stdout",
     "output_type": "stream",
     "text": [
      "Pred                LAYING  SITTING  STANDING  WALKING  WALKING_DOWNSTAIRS  \\\n",
      "True                                                                         \n",
      "LAYING                 510        0         0        0                   0   \n",
      "SITTING                  1      361       101       18                   0   \n",
      "STANDING                 0       57       467        6                   0   \n",
      "WALKING                  0        0         5      414                   7   \n",
      "WALKING_DOWNSTAIRS       0        0         0       23                  12   \n",
      "WALKING_UPSTAIRS         0        0         0        4                   2   \n",
      "\n",
      "Pred                WALKING_UPSTAIRS  \n",
      "True                                  \n",
      "LAYING                            27  \n",
      "SITTING                           10  \n",
      "STANDING                           2  \n",
      "WALKING                           70  \n",
      "WALKING_DOWNSTAIRS               385  \n",
      "WALKING_UPSTAIRS                 465  \n"
     ]
    }
   ],
   "source": [
    "# Confusion Matrix\n",
    "print(confusion_matrix(Y_test, model.predict(X_test)))"
   ]
  },
  {
   "cell_type": "code",
   "execution_count": 21,
   "metadata": {},
   "outputs": [
    {
     "name": "stdout",
     "output_type": "stream",
     "text": [
      "2947/2947 [==============================] - 3s 852us/step\n"
     ]
    }
   ],
   "source": [
    "score = model.evaluate(X_test, Y_test)"
   ]
  },
  {
   "cell_type": "code",
   "execution_count": 22,
   "metadata": {},
   "outputs": [
    {
     "data": {
      "text/plain": [
       "[0.6035107239994875, 0.7563624024431626]"
      ]
     },
     "execution_count": 22,
     "metadata": {},
     "output_type": "execute_result"
    }
   ],
   "source": [
    "score"
   ]
  },
  {
   "cell_type": "markdown",
   "metadata": {},
   "source": [
    "### Model using 32 hidden units and high dropout rate"
   ]
  },
  {
   "cell_type": "code",
   "execution_count": 23,
   "metadata": {},
   "outputs": [
    {
     "name": "stdout",
     "output_type": "stream",
     "text": [
      "_________________________________________________________________\n",
      "Layer (type)                 Output Shape              Param #   \n",
      "=================================================================\n",
      "lstm_3 (LSTM)                (None, 128, 64)           18944     \n",
      "_________________________________________________________________\n",
      "dropout_3 (Dropout)          (None, 128, 64)           0         \n",
      "_________________________________________________________________\n",
      "lstm_4 (LSTM)                (None, 64)                33024     \n",
      "_________________________________________________________________\n",
      "dropout_4 (Dropout)          (None, 64)                0         \n",
      "_________________________________________________________________\n",
      "dense_2 (Dense)              (None, 6)                 390       \n",
      "=================================================================\n",
      "Total params: 52,358\n",
      "Trainable params: 52,358\n",
      "Non-trainable params: 0\n",
      "_________________________________________________________________\n"
     ]
    }
   ],
   "source": [
    "# Initializing parameters\n",
    "epochs = 20\n",
    "batch_size = 32\n",
    "n_hidden = 64\n",
    "# Initiliazing the sequential model\n",
    "model = Sequential()\n",
    "# Configuring the parameters\n",
    "model.add(LSTM(n_hidden,return_sequences=True, input_shape=(timesteps, input_dim)))\n",
    "# Adding a dropout layer\n",
    "model.add(Dropout(0.7))\n",
    "model.add(LSTM(n_hidden, input_shape=(timesteps, input_dim)))\n",
    "model.add(Dropout(0.7))\n",
    "# Adding a dense output layer with sigmoid activation\n",
    "model.add(Dense(n_classes, activation='sigmoid'))\n",
    "model.summary()"
   ]
  },
  {
   "cell_type": "code",
   "execution_count": 24,
   "metadata": {},
   "outputs": [
    {
     "name": "stdout",
     "output_type": "stream",
     "text": [
      "Train on 7352 samples, validate on 2947 samples\n",
      "Epoch 1/20\n",
      "7352/7352 [==============================] - 64s 9ms/step - loss: 1.3477 - acc: 0.4170 - val_loss: 1.3952 - val_acc: 0.4147\n",
      "Epoch 2/20\n",
      "7352/7352 [==============================] - 62s 8ms/step - loss: 0.9861 - acc: 0.5700 - val_loss: 0.9066 - val_acc: 0.5965\n",
      "Epoch 3/20\n",
      "7352/7352 [==============================] - 63s 9ms/step - loss: 0.8310 - acc: 0.6245 - val_loss: 0.8091 - val_acc: 0.6634\n",
      "Epoch 4/20\n",
      "7352/7352 [==============================] - 63s 9ms/step - loss: 0.7241 - acc: 0.6427 - val_loss: 0.8131 - val_acc: 0.6749\n",
      "Epoch 5/20\n",
      "7352/7352 [==============================] - 63s 9ms/step - loss: 0.7398 - acc: 0.6756 - val_loss: 0.7638 - val_acc: 0.6885\n",
      "Epoch 6/20\n",
      "7352/7352 [==============================] - 64s 9ms/step - loss: 0.6331 - acc: 0.7297 - val_loss: 0.6992 - val_acc: 0.7346\n",
      "Epoch 7/20\n",
      "7352/7352 [==============================] - 63s 9ms/step - loss: 0.5737 - acc: 0.7578 - val_loss: 0.5913 - val_acc: 0.7323\n",
      "Epoch 8/20\n",
      "7352/7352 [==============================] - 63s 9ms/step - loss: 0.5078 - acc: 0.7845 - val_loss: 0.4935 - val_acc: 0.7645\n",
      "Epoch 9/20\n",
      "7352/7352 [==============================] - 62s 8ms/step - loss: 0.4623 - acc: 0.7908 - val_loss: 0.5731 - val_acc: 0.7937\n",
      "Epoch 10/20\n",
      "7352/7352 [==============================] - 64s 9ms/step - loss: 0.4014 - acc: 0.8313 - val_loss: 0.4753 - val_acc: 0.8314\n",
      "Epoch 11/20\n",
      "7352/7352 [==============================] - 63s 9ms/step - loss: 0.3293 - acc: 0.8906 - val_loss: 0.3636 - val_acc: 0.8833\n",
      "Epoch 12/20\n",
      "7352/7352 [==============================] - 63s 9ms/step - loss: 0.2758 - acc: 0.9091 - val_loss: 0.3265 - val_acc: 0.8918\n",
      "Epoch 13/20\n",
      "7352/7352 [==============================] - 61s 8ms/step - loss: 0.2382 - acc: 0.9295 - val_loss: 0.3375 - val_acc: 0.8938\n",
      "Epoch 14/20\n",
      "7352/7352 [==============================] - 73s 10ms/step - loss: 0.2070 - acc: 0.9363 - val_loss: 0.3652 - val_acc: 0.8962\n",
      "Epoch 15/20\n",
      "7352/7352 [==============================] - 71s 10ms/step - loss: 0.2226 - acc: 0.9344 - val_loss: 0.3895 - val_acc: 0.8996\n",
      "Epoch 16/20\n",
      "7352/7352 [==============================] - 65s 9ms/step - loss: 0.1911 - acc: 0.9357 - val_loss: 0.4278 - val_acc: 0.9080\n",
      "Epoch 17/20\n",
      "7352/7352 [==============================] - 69s 9ms/step - loss: 0.1688 - acc: 0.9444 - val_loss: 0.3409 - val_acc: 0.9148\n",
      "Epoch 18/20\n",
      "7352/7352 [==============================] - 61s 8ms/step - loss: 0.1833 - acc: 0.9431 - val_loss: 0.4528 - val_acc: 0.8951\n",
      "Epoch 19/20\n",
      "7352/7352 [==============================] - 68s 9ms/step - loss: 0.1844 - acc: 0.9346 - val_loss: 0.3376 - val_acc: 0.9033\n",
      "Epoch 20/20\n",
      "7352/7352 [==============================] - 57s 8ms/step - loss: 0.1580 - acc: 0.9476 - val_loss: 0.3530 - val_acc: 0.9104\n"
     ]
    }
   ],
   "source": [
    "# Compiling the model\n",
    "model.compile(loss='categorical_crossentropy',\n",
    "              optimizer='rmsprop',\n",
    "              metrics=['accuracy'])\n",
    "\n",
    "# Training the model\n",
    "model_log = model.fit(X_train,\n",
    "          Y_train,\n",
    "          batch_size=batch_size,\n",
    "          validation_data=(X_test, Y_test),\n",
    "          epochs=epochs)"
   ]
  },
  {
   "cell_type": "code",
   "execution_count": 25,
   "metadata": {
    "scrolled": true
   },
   "outputs": [
    {
     "name": "stdout",
     "output_type": "stream",
     "text": [
      "Pred                LAYING  SITTING  STANDING  WALKING  WALKING_DOWNSTAIRS  \\\n",
      "True                                                                         \n",
      "LAYING                 520        0         0        0                   0   \n",
      "SITTING                  6      403        75        1                   1   \n",
      "STANDING                 0       92       440        0                   0   \n",
      "WALKING                  0        0         0      454                  13   \n",
      "WALKING_DOWNSTAIRS       0        0         0        0                 418   \n",
      "WALKING_UPSTAIRS         0        1         1       19                   2   \n",
      "\n",
      "Pred                WALKING_UPSTAIRS  \n",
      "True                                  \n",
      "LAYING                            17  \n",
      "SITTING                            5  \n",
      "STANDING                           0  \n",
      "WALKING                           29  \n",
      "WALKING_DOWNSTAIRS                 2  \n",
      "WALKING_UPSTAIRS                 448  \n"
     ]
    }
   ],
   "source": [
    "# Confusion Matrix\n",
    "print(confusion_matrix(Y_test, model.predict(X_test)))"
   ]
  },
  {
   "cell_type": "code",
   "execution_count": 35,
   "metadata": {
    "collapsed": true
   },
   "outputs": [],
   "source": [
    "mat = confusion_matrix(Y_test, model.predict(X_test))"
   ]
  },
  {
   "cell_type": "code",
   "execution_count": 59,
   "metadata": {},
   "outputs": [
    {
     "data": {
      "text/plain": [
       "<matplotlib.axes._subplots.AxesSubplot at 0x12694f9e8>"
      ]
     },
     "execution_count": 59,
     "metadata": {},
     "output_type": "execute_result"
    },
    {
     "data": {
      "image/png": "[encoded data removed]",
      "text/plain": [
       "<matplotlib.figure.Figure at 0x126829cf8>"
      ]
     },
     "metadata": {},
     "output_type": "display_data"
    }
   ],
   "source": [
    "import seaborn as sns\n",
    "plt.rcParams[\"font.family\"] = 'DejaVu Sans'\n",
    "plt.title(\"confusion matrix\")\n",
    "sns.set(rc={'figure.figsize':(11.7,8.27)})\n",
    "plt.ylabel(\"True Value\")\n",
    "plt.xlabel(\"Predicted Value\")\n",
    "sns.heatmap(mat,annot=True,linewidths=.5,fmt = '.2f')\n",
    "\n"
   ]
  },
  {
   "cell_type": "code",
   "execution_count": 26,
   "metadata": {},
   "outputs": [
    {
     "name": "stdout",
     "output_type": "stream",
     "text": [
      "2947/2947 [==============================] - 5s 2ms/step\n"
     ]
    },
    {
     "data": {
      "text/plain": [
       "[0.353041044472225, 0.9104173736002714]"
      ]
     },
     "execution_count": 26,
     "metadata": {},
     "output_type": "execute_result"
    }
   ],
   "source": [
    "score = model.evaluate(X_test, Y_test)\n",
    "score\n"
   ]
  },
  {
   "cell_type": "code",
   "execution_count": 27,
   "metadata": {
    "collapsed": true
   },
   "outputs": [
    {
     "data": {
      "image/png": "[encoded data removed]",
      "text/plain": [
       "<matplotlib.figure.Figure at 0x1243b3898>"
      ]
     },
     "execution_count": 27,
     "metadata": {},
     "output_type": "execute_result"
    }
   ],
   "source": [
    "import os\n",
    "# plotting the metrics\n",
    "import matplotlib.pyplot as plt\n",
    "fig = plt.figure()\n",
    "plt.subplot(2,1,1)\n",
    "plt.plot(model_log.history['acc'])\n",
    "plt.plot(model_log.history['val_acc'])\n",
    "plt.title('model accuracy')\n",
    "plt.ylabel('accuracy')\n",
    "plt.xlabel('epoch')\n",
    "plt.legend(['train', 'test'], loc='lower right')\n",
    "\n",
    "plt.subplot(2,1,2)\n",
    "plt.plot(model_log.history['loss'])\n",
    "plt.plot(model_log.history['val_loss'])\n",
    "plt.title('model loss')\n",
    "plt.ylabel('loss')\n",
    "plt.xlabel('epoch')\n",
    "plt.legend(['train', 'test'], loc='upper right')\n",
    "\n",
    "plt.tight_layout()\n",
    "\n",
    "fig"
   ]
  },
  {
   "cell_type": "markdown",
   "metadata": {},
   "source": [
    "## CONCLUSIONS"
   ]
  },
  {
   "cell_type": "markdown",
   "metadata": {},
   "source": [
    "- By using two LSTM with 16 hidden units , we got the accuracy of 75 %\n",
    "- When we changed model to 32 hidden units , accuracy increased significantly to 91 % \n",
    "- From confusion matrix we can conclude that \"Model is making error while classifying sitting and standing classes\""
   ]
  },
  {
   "cell_type": "code",
   "execution_count": null,
   "metadata": {
    "collapsed": true
   },
   "outputs": [],
   "source": []
  }
 ],
 "metadata": {
  "kernelspec": {
   "display_name": "Python 3",
   "language": "python",
   "name": "python3"
  },
  "language_info": {
   "codemirror_mode": {
    "name": "ipython",
    "version": 3
   },
   "file_extension": ".py",
   "mimetype": "text/x-python",
   "name": "python",
   "nbconvert_exporter": "python",
   "pygments_lexer": "ipython3",
   "version": "3.6.6"
  }
 },
 "nbformat": 4,
 "nbformat_minor": 2
}
